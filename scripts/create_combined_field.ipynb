{
 "cells": [
  {
   "cell_type": "markdown",
   "metadata": {},
   "source": [
    "Creating combined field from title and text"
   ]
  },
  {
   "cell_type": "code",
   "execution_count": 1,
   "metadata": {},
   "outputs": [],
   "source": [
    "import pandas as pd"
   ]
  },
  {
   "cell_type": "code",
   "execution_count": 4,
   "metadata": {},
   "outputs": [],
   "source": [
    "posts = pd.read_csv(\"/Users/Mikhail_Bulgakov/GitRepo/topic-modeling/data/posts.csv\")"
   ]
  },
  {
   "cell_type": "code",
   "execution_count": 5,
   "metadata": {},
   "outputs": [],
   "source": [
    "posts['clean_text_title'] = posts[\"clean_title\"].str.cat(posts[\"clean_text\"])"
   ]
  },
  {
   "cell_type": "code",
   "execution_count": 6,
   "metadata": {},
   "outputs": [],
   "source": [
    "posts.to_csv(\"/Users/Mikhail_Bulgakov/GitRepo/topic-modeling/data/posts_1.csv\", index=False)"
   ]
  },
  {
   "cell_type": "code",
   "execution_count": 7,
   "metadata": {},
   "outputs": [
    {
     "data": {
      "text/plain": [
       "(43866, 9)"
      ]
     },
     "execution_count": 7,
     "metadata": {},
     "output_type": "execute_result"
    }
   ],
   "source": [
    "posts.shape"
   ]
  },
  {
   "cell_type": "code",
   "execution_count": null,
   "metadata": {},
   "outputs": [],
   "source": []
  },
  {
   "cell_type": "code",
   "execution_count": 4,
   "metadata": {},
   "outputs": [
    {
     "data": {
      "text/plain": [
       "'0. Смешать воду, сахар и соль, довести до кипения, затем снять с огня и влить уксус.\\n1. Капусту очистить от верхних листьев, нарезать крупными кусками, избавившись от кочерыжки. Морковь и свеклу нарезать тонкой соломкой. У перца удалить семена и измельчить, чеснок также измельчить.\\n2. Смешать капусту с остальными овощами и черным перцем, равномерно уложить их в банку, залить маринадом и закрыть крышкой. Оставить на сутки при комнатной температуре, затем убрать в холодильник. Через 3-5 дней капусту можно будет есть.'"
      ]
     },
     "execution_count": 4,
     "metadata": {},
     "output_type": "execute_result"
    }
   ],
   "source": [
    "pd.read_csv(\"/Users/Mikhail_Bulgakov/GitRepo/topic-modeling/data/recipes.csv\").head(5)[\"steps\"].iloc[0]"
   ]
  },
  {
   "cell_type": "code",
   "execution_count": 9,
   "metadata": {},
   "outputs": [
    {
     "data": {
      "text/plain": [
       "array(['zagotovki', 'vypechka-deserty', 'osnovnye-blyuda', 'zavtraki',\n",
       "       'salaty', 'supy', 'pasta-picca', 'zakuski', 'sendvichi', 'rizotto',\n",
       "       'napitki', 'sousy-marinady', 'bulony'], dtype=object)"
      ]
     },
     "execution_count": 9,
     "metadata": {},
     "output_type": "execute_result"
    }
   ],
   "source": [
    "pd.read_csv(\"/Users/Mikhail_Bulgakov/GitRepo/topic-modeling/data/recipes.csv\")[\"category\"].unique()"
   ]
  },
  {
   "cell_type": "code",
   "execution_count": null,
   "metadata": {},
   "outputs": [],
   "source": []
  }
 ],
 "metadata": {
  "kernelspec": {
   "display_name": "Python 3.9.13 ('nlp-course')",
   "language": "python",
   "name": "python3"
  },
  "language_info": {
   "codemirror_mode": {
    "name": "ipython",
    "version": 3
   },
   "file_extension": ".py",
   "mimetype": "text/x-python",
   "name": "python",
   "nbconvert_exporter": "python",
   "pygments_lexer": "ipython3",
   "version": "3.9.13"
  },
  "orig_nbformat": 4,
  "vscode": {
   "interpreter": {
    "hash": "e1aa5c029e42cdcf3a100caa232ba22b435792a287a2f0d408a51f459991f525"
   }
  }
 },
 "nbformat": 4,
 "nbformat_minor": 2
}
